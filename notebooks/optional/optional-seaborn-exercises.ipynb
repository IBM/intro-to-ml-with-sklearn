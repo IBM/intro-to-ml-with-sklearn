{
 "cells": [
  {
   "cell_type": "markdown",
   "metadata": {
    "id": "d87f221d-ed2d-4489-acf8-cf0bc1563dfa"
   },
   "source": [
    "# Data Visualization with Python and Jupyter\n",
    "\n",
    "In this module of the course, we will use some of the libraries available with Python and Jupyter to examine our data set. In order to better understand the data, we can use visualizations such as charts, plots, and graphs. We'll use some commont tools such as [`matplotlib`](https://matplotlib.org/users/index.html)  and [`seaborn`](https://seaborn.pydata.org/index.html) and gather some statistical insights into our data.\n",
    "\n",
    "We'll continue to use the [`insurance.csv`](https://www.kaggle.com/noordeen/insurance-premium-prediction/download) file from you project assets, so if you have not already [`downloaded this file`](https://www.kaggle.com/noordeen/insurance-premium-prediction/download) to your local machine, and uploaded it to your project, do that now."
   ]
  },
  {
   "cell_type": "markdown",
   "metadata": {
    "id": "a93f6bd1942146328462b31b814e048a"
   },
   "source": [
    "## Table of Contents\n",
    "\n",
    "1. [Using the Jupyter notebook](#jupyter)<br>\n",
    "2. [Load the data](#data)<br>\n",
    "3. [Visualize Data](#visualize)<br>\n",
    "4. [Understand Data](#understand)<br>"
   ]
  },
  {
   "cell_type": "markdown",
   "metadata": {
    "id": "fce92813-1018-4a95-b531-b1faa624c9ac"
   },
   "source": [
    "<a id=\"jupyter\"></a>\n",
    "## 1. Using the Jupyter notebook"
   ]
  },
  {
   "cell_type": "markdown",
   "metadata": {
    "id": "df0852d529a643aca0c10ae9e5c170b5"
   },
   "source": [
    "### Jupyter cells\n",
    "\n",
    "When you are editing a cell in Jupyter notebook, you need to re-run the cell by pressing **`<Shift> + <Enter>`**. This will allow changes you made to be available to other cells.\n",
    "\n",
    "Use **`<Enter>`** to make new lines inside a cell you are editing.\n",
    "\n",
    "#### Code cells\n",
    "\n",
    "Re-running will execute any statements you have written. To edit an existing code cell, click on it.\n",
    "\n",
    "#### Markdown cells\n",
    "\n",
    "Re-running will render the markdown text. To edit an existing markdown cell, double-click on it.\n",
    "\n",
    "<hr>\n",
    "\n",
    "### Common Jupyter operations\n",
    "\n",
    "Near the top of the Jupyter notebook page, Jupyter provides a row of menu options (`File`, `Edit`, `View`, `Insert`, ...) and a row of tool bar icons (disk, plus sign, scissors, 2 files, clipboard and file, up arrow, ...).\n",
    "\n",
    "#### Inserting and removing cells\n",
    "\n",
    "- Use the \"plus sign\" icon to insert a cell below the currently selected cell\n",
    "- Use \"Insert\" -> \"Insert Cell Above\" from the menu to insert above\n",
    "\n",
    "#### Clear the output of all cells\n",
    "\n",
    "- Use \"Kernel\" -> \"Restart\" from the menu to restart the kernel\n",
    "    - click on \"clear all outputs & restart\" to have all the output cleared\n",
    "\n",
    "#### Save your notebook file locally\n",
    "\n",
    "- Clear the output of all cells\n",
    "- Use \"File\" -> \"Download as\" -> \"IPython Notebook (.ipynb)\" to download a notebook file representing your session\n",
    "\n",
    "<hr>"
   ]
  },
  {
   "cell_type": "markdown",
   "metadata": {
    "id": "d762980b627343b89432048298610ab1"
   },
   "source": [
    "<a id=\"data\"></a>\n",
    "## 2.0 Load the data \n",
    "\n",
    "A lot of data is **structured data**, which is data that is organized and formatted so it is easily readable, for example a table with variables as columns and records as rows, or key-value pairs in a noSQL database. As long as the data is formatted consistently and has multiple records with numbers, text and dates, you can probably read the data with [Pandas](https://pandas.pydata.org/pandas-docs/stable/index.html), an open-source Python package providing high-performance data manipulation and analysis.\n",
    "\n",
    "### 2.1 Load our data as a pandas data frame\n",
    "\n",
    "**<font color='red'><< FOLLOW THE INSTRUCTIONS BELOW TO LOAD THE DATASET >></font>**\n",
    "\n",
    "* Highlight the cell below by clicking it.\n",
    "* Click the `10/01` \"Find data\" icon in the upper right of the notebook.\n",
    "* Add the locally uploaded file `insurance.csv` by choosing the `Files` tab. Then choose the `insurance.csv`. Click `Insert to code` and choose `Insert Pandas DataFrame`.\n",
    "* The code to bring the data into the notebook environment and create a Pandas DataFrame will be added to the cell below.\n",
    "* Run the cell\n"
   ]
  },
  {
   "cell_type": "code",
   "execution_count": null,
   "metadata": {
    "id": "4533a546d3e246bd81413160b61a2f42"
   },
   "outputs": [],
   "source": [
    "# Place cursor below and insert the Pandas DataFrame for the Insurance Expense data\n"
   ]
  },
  {
   "cell_type": "markdown",
   "metadata": {
    "id": "fe06bc33a626498698296d638aae3f35"
   },
   "source": [
    "### 2.2 Update the variable for our Pandas dataframe\n",
    "\n",
    "We'll use the Pandas naming convention df for our DataFrame. Make sure that the cell below uses the name for the dataframe used above. For the locally uploaded file it should look like df_data_1 or df_data_2 or df_data_x. \n",
    "\n",
    "**<font color='red'><< UPDATE THE VARIABLE ASSIGNMENT TO THE VARIABLE GENERATED ABOVE. >></font>**"
   ]
  },
  {
   "cell_type": "code",
   "execution_count": null,
   "metadata": {
    "id": "eac71c8487944f0c869509fd7b8a1a92"
   },
   "outputs": [],
   "source": [
    "# Replace data_df_1 with the variable name generated above.\n",
    "df = df_data_1"
   ]
  },
  {
   "cell_type": "markdown",
   "metadata": {
    "id": "aab31314-a5e7-4c0c-863e-fc6732a75c9a"
   },
   "source": [
    "<a id=\"visualize\"></a>\n",
    "## 3.0 Visualize Data\n",
    "\n",
    "Pandas uses [`Matplotlib`](https://matplotlib.org/users/index.html) as the default for visualisations.\n",
    "In addition, we'll use [`Numpy`](https://numpy.org), which is \"The fundamental package for scientific computing with Python\".\n",
    "The conventions when using Jupyter notebooks is to import numpy as `np` and to import matplotlib.pyplot as `plt`. You can call these variables whatever you want, but you will often see them done this way.\n",
    "\n",
    "Import the packages and also add the magic line starting with `%` to output the charts within the notebook. This is what is known as a [`magic command`](https://ipython.readthedocs.io/en/stable/interactive/magics.html)."
   ]
  },
  {
   "cell_type": "code",
   "execution_count": null,
   "metadata": {
    "id": "475fbb8f-3a9e-4a5e-b31c-1c554773bb49"
   },
   "outputs": [],
   "source": [
    "import numpy as np\n",
    "import matplotlib.pyplot as plt\n",
    "import matplotlib.patches as mpatches\n",
    "\n",
    "%matplotlib inline"
   ]
  },
  {
   "cell_type": "markdown",
   "metadata": {
    "id": "70d66cd783ca4da88df4b54873155493"
   },
   "source": [
    "### 3.1 Seaborn\n",
    "\n",
    "Seaborn is a Python data visualization library based on matplotlib. It is an easy to use visualisation package that works well with Pandas DataFrames. \n",
    "\n",
    "Below are a few examples using Seaborn. \n",
    "\n",
    "Refer to this [documentation](https://seaborn.pydata.org/index.html) for information on lots of plots you can create."
   ]
  },
  {
   "cell_type": "code",
   "execution_count": null,
   "metadata": {
    "id": "be49b8a8662745ff8cd56e46a171dcdd"
   },
   "outputs": [],
   "source": [
    "import seaborn as sns"
   ]
  },
  {
   "cell_type": "markdown",
   "metadata": {
    "id": "41c77ac1-df73-4a78-ad1f-ab5c69fde6cc"
   },
   "source": [
    "### 3.2 Statistical description\n",
    "\n",
    "We can use the Pandas method [`describe()`](https://pandas.pydata.org/pandas-docs/stable/reference/api/pandas.DataFrame.describe.html) to get some statistics that will later be seen in our visualizations. This will include numeric data, but exclude the categorical fields."
   ]
  },
  {
   "cell_type": "code",
   "execution_count": null,
   "metadata": {
    "id": "47edce5d-2ca5-4c4b-9854-abd48e24bd0a",
    "scrolled": true
   },
   "outputs": [],
   "source": [
    "df.describe()"
   ]
  },
  {
   "cell_type": "markdown",
   "metadata": {
    "id": "b646b46a-30ae-4b86-ad7d-0a7a2a885b3d"
   },
   "source": [
    "### Question 1: Is there relationship between BMI and insurance expenses?\n",
    "\n",
    "We'll explore the data by asking a series of questions (hypothesis). The use of plots can help us to find relationships and correlations.\n",
    "[`Body Mass Index`](https://www.nhlbi.nih.gov/health/educational/lose_wt/BMI/bmicalc.htm)  (BMI) is a measure of body fat based on height and weight that applies to adult men and women. It is often correlated with health outcomes, so let's use a [`Seaborn jointplot`](http://seaborn.pydata.org/generated/seaborn.jointplot.html) with a scatterplot to see if that holds for our data."
   ]
  },
  {
   "cell_type": "code",
   "execution_count": null,
   "metadata": {
    "id": "dd6e8eeb-ae73-410c-970d-346f2e9030fe",
    "scrolled": true
   },
   "outputs": [],
   "source": [
    "sns.jointplot(x=df[\"expenses\"], y=df[\"bmi\"], kind=\"scatter\")\n",
    "\n",
    "plt.show()"
   ]
  },
  {
   "cell_type": "markdown",
   "metadata": {
    "id": "b3a4cc0d-e8ea-4be0-8ff1-5a229030e1e8"
   },
   "source": [
    "#### Answer:\n",
    "\n",
    "It doesn't not appear that there is a good correlation between BMI and the expenses for these patients. We see from the histogram on the right that BMI is normally distributed, and from the histogram on top we see that Expenses are clustered around the lower amounts. It does not look like BMI would be a good predictor of the expenses."
   ]
  },
  {
   "cell_type": "markdown",
   "metadata": {
    "id": "53698100-def8-42c1-a924-2beb6e1ef83d"
   },
   "source": [
    "### Question 2:  Is there relationship between gender and insurance expenses?\n",
    "\n",
    "Our next hypothesis might be that there is a correlation between gender and expenses. We can use the [`Seaborn boxplot`](https://seaborn.pydata.org/generated/seaborn.boxplot.html). A boxplot uses quartiles to show how the data is distributed, and will give us a good comparison between the 2 categories represented by `gender`. The horizontal line through our boxes is the median value. The area above the median line is the 3rd quartile, representing the values of the 50th-75th percentiles, and the area below the median line is the 2nd quartile, representing the values of the 25th-50th percentiles. The rest of the data is collapse into lines called \"whiskers\" and outliers are plotted as single points."
   ]
  },
  {
   "cell_type": "code",
   "execution_count": null,
   "metadata": {
    "id": "902f0801-0016-45a6-b00b-f1a47036f9b7"
   },
   "outputs": [],
   "source": [
    "plt.figure(figsize = (5, 5))\n",
    "sns.boxplot(x = 'sex', y = 'expenses',  data = df)"
   ]
  },
  {
   "cell_type": "markdown",
   "metadata": {
    "id": "c049809e-6afa-4583-a1d5-575947e661c1"
   },
   "source": [
    "#### Answer: \n",
    "On average claims from male and female are the same, and both have approximately the same median (the value in the middle of the distribution. The 3rd quartile is \"fatter\" for the males, meaning there is a broader distribution of values, and it skews to a higher amount. The 4th quartile also skews higher for the males, so this category contains more of the higher expenses."
   ]
  },
  {
   "cell_type": "markdown",
   "metadata": {
    "id": "47a96da6-de0c-4f87-87b0-aa8fb664f365"
   },
   "source": [
    "### Question 3: Is there relationship between region and claim amount?\n",
    "\n",
    "Perhaps there is a correlation between the various regions and the insurance expenses. We can once again use a series of boxplots to see the differences betweent the regions."
   ]
  },
  {
   "cell_type": "code",
   "execution_count": null,
   "metadata": {
    "id": "24967a84-1098-49b8-8c60-eb84f62b106f"
   },
   "outputs": [],
   "source": [
    "plt.figure(figsize = (10, 5))\n",
    "sns.boxplot(x = 'region', y = 'expenses',  data = df)"
   ]
  },
  {
   "cell_type": "markdown",
   "metadata": {
    "id": "97e3b743-2382-450e-b103-d510a6c89b1b"
   },
   "source": [
    "#### Answer: \n",
    "\n",
    "In this case we see that the median values across regions are nearly the same. There is some variation for the distribution of expense values, and the southeast reagion has more of the higher values in the 3rd and 4th quartile. The differences aren't particularly large, however, and it is unlikely that region could be a good predictor of expenses."
   ]
  },
  {
   "cell_type": "markdown",
   "metadata": {
    "id": "e0c19a41-fd34-4683-a690-71a22d02f358"
   },
   "source": [
    "### Question: Is there relationships between claim amount between smokers and non-smokers?\n",
    "\n",
    "Given the overwhelming evidence that smoking causes mortality (death) and morbidity (disease), we might guess that there is a relationship betweem insurance claims and smoking.\n",
    "Let's use a boxplot to examine this."
   ]
  },
  {
   "cell_type": "code",
   "execution_count": null,
   "metadata": {
    "id": "b5355d1c-c550-4213-8ee4-58c0bfe1a1ad"
   },
   "outputs": [],
   "source": [
    "plt.figure(figsize = (5, 5))\n",
    "sns.boxplot(x = 'smoker', y = 'expenses',  data = df)"
   ]
  },
  {
   "cell_type": "markdown",
   "metadata": {
    "id": "b1760274-7a0f-4122-b49d-e16c16f72db5"
   },
   "source": [
    "#### Answer: \n",
    "\n",
    "We can see that the mean, and indeed the entire interquartile range from 25% to 75% is much higher in expense for the smokers than for the non-smokers. It looks like whether or not an individual is a smoker could be a good predictor of insurance expenses."
   ]
  },
  {
   "cell_type": "markdown",
   "metadata": {
    "id": "c5e5f10a-aa87-4fcc-a1ed-9ddc79d7c6c1"
   },
   "source": [
    "### Question: is the smoker group well represented?\n",
    "\n",
    "We'll want to make sure that we have a pretty good sample size for both groups."
   ]
  },
  {
   "cell_type": "code",
   "execution_count": null,
   "metadata": {
    "id": "c5fe93ed-449b-4e83-b6fa-87e8d271e6d6"
   },
   "outputs": [],
   "source": [
    "# make the plot a little bigger\n",
    "countplt, ax = plt.subplots(figsize = (10,7))\n",
    "\n",
    "ax = sns.countplot(x='smoker', data=df)"
   ]
  },
  {
   "cell_type": "markdown",
   "metadata": {
    "id": "ad686b205eab492793094aa2db80b210"
   },
   "source": [
    "#### Answer:\n",
    "\n",
    "Yes, it looks like smokers are a large enough group to be statistically significant."
   ]
  },
  {
   "cell_type": "markdown",
   "metadata": {
    "id": "7f1075be-40ef-40b6-8d96-8de37052eeaa"
   },
   "source": [
    "### Question: Is there relationship between claim amount and age?\n",
    "\n",
    "It seems reasonable to assume that there might be different insurance costs for different age groups. For example, older adults tend to require more health care.\n",
    "Since this is continuous data, let's use a scatter plot to investigate."
   ]
  },
  {
   "cell_type": "code",
   "execution_count": null,
   "metadata": {
    "id": "058cd40f-523e-4c45-ae36-5fa727aac8bb"
   },
   "outputs": [],
   "source": [
    "sns.jointplot(x=df['expenses'], y=df['age'], kind='scatter')\n",
    "\n",
    "plt.show()"
   ]
  },
  {
   "cell_type": "markdown",
   "metadata": {
    "id": "abdb8513-93a7-4dce-942c-51f1b7206fbd"
   },
   "source": [
    "#### Answer: \n",
    "\n",
    "Yes, it does look like Claim amounts increase with age. Furthermore, there are interesting bands around the expenses for `$1,200`, up to `$3,000`, and above `$3,000`."
   ]
  },
  {
   "cell_type": "markdown",
   "metadata": {
    "id": "9ce34358-a53b-4be0-88e5-ad422dc5d148"
   },
   "source": [
    "<a id=\"understand\"></a>\n",
    "## 4.0 Understand data\n",
    "\n",
    "Now that we have had a look at the data, let's bring some of this information together.\n",
    "\n",
    "In order to look at the relationship between multiple variables, we can use the [`Seaborn pairplot()`](https://seaborn.pydata.org/generated/seaborn.pairplot.html) method. This will plot each of the variables of the data set on both the x and y axes, in every possible combination. From this we can quickly see patterns that indicate the relationship between the variables.\n",
    "We'll use the `hue`  to color one of the features in the plot to compare it to the other 2 variables."
   ]
  },
  {
   "cell_type": "markdown",
   "metadata": {
    "id": "c1f75ab6-7273-4b5c-8aa6-ee49ecae95cc"
   },
   "source": [
    "\n",
    "### 4.1 Impact of Smoking\n",
    "\n",
    "See which variable correlate with smoking. `Red` indicates a smoker."
   ]
  },
  {
   "cell_type": "code",
   "execution_count": null,
   "metadata": {
    "id": "fb3383e1-863e-44ee-95ad-b3b4b6298922"
   },
   "outputs": [],
   "source": [
    "claim_pplot=df[['age', 'bmi', 'children', 'smoker', 'expenses']]\n",
    "claim_pplot.head()\n",
    "sns.pairplot(claim_pplot, kind=\"scatter\", hue = \"smoker\" , markers=[\"o\", \"s\"], palette=\"Set1\")\n",
    "plt.show()"
   ]
  },
  {
   "cell_type": "markdown",
   "metadata": {
    "id": "857319b4da6f4871a20bb4650101625d"
   },
   "source": [
    "#### Analyis\n",
    "\n",
    "We can see some interesting things from these plots. Whereas older people tend to have more expenses, we can see from `age` vs. `expenses` that smoking is a more dominant feature. The same holds for `BMI` vs `expenses`. "
   ]
  },
  {
   "cell_type": "markdown",
   "metadata": {
    "id": "71574374-fa9d-4ad5-b1f8-f66ae47c32ee"
   },
   "source": [
    "### 4.2  Impact of Gender\n",
    "\n",
    "What is the correlation between the features and gender. `Red` is female, `Blue` is male."
   ]
  },
  {
   "cell_type": "code",
   "execution_count": null,
   "metadata": {
    "id": "2af31d87-93cf-4332-ba53-6c1aadc247ed"
   },
   "outputs": [],
   "source": [
    "claim_pplot=df[['age', 'bmi', 'children', 'sex', 'expenses']]\n",
    "claim_pplot.head()\n",
    "sns.pairplot(claim_pplot, kind=\"scatter\", hue = \"sex\" , markers=[\"o\", \"s\"], palette=\"Set1\")\n",
    "plt.show()"
   ]
  },
  {
   "cell_type": "markdown",
   "metadata": {
    "id": "ad8e0848-eea8-4d7f-8e7b-fb69dbbbf229"
   },
   "source": [
    "#### Analysis: \n",
    "\n",
    "Gender has very little impact of the expenses."
   ]
  },
  {
   "cell_type": "markdown",
   "metadata": {
    "id": "2de867cc-63ea-4c36-8257-23db766b2317"
   },
   "source": [
    "#### REGION IMPACT"
   ]
  },
  {
   "cell_type": "code",
   "execution_count": null,
   "metadata": {
    "id": "accd2a9a-0549-4c2c-a902-632dfa553f52",
    "scrolled": true
   },
   "outputs": [],
   "source": [
    "claim_pplot=df[['age', 'bmi', 'children', 'region', 'expenses']]\n",
    "claim_pplot.head()\n",
    "sns.pairplot(claim_pplot, kind=\"scatter\", hue = \"region\" , markers=[\"o\", \"s\",\"x\",\"+\"], palette=\"Set1\")\n",
    "plt.show()"
   ]
  },
  {
   "cell_type": "markdown",
   "metadata": {
    "id": "abdca354-2d1b-4afd-99d0-cdd3d4dfc1b9"
   },
   "source": [
    "#### Analysis: \n",
    "\n",
    "Region does have some imact on the expenses, which can be seen in the `age` vs. `expenses` chart where the `northeast` region appears in the lowest band more commonly, followed by the `northwest` region, and the `southeast` region is clearly higher and more prevelant in the highest band."
   ]
  },
  {
   "cell_type": "markdown",
   "metadata": {
    "id": "61ab9656e99d4764b3f1ef0708e95c4c"
   },
   "source": [
    "### Show correlations\n",
    "\n",
    "We can quantify the correlations between features of the data set using [`Pandas corr()`](https://pandas.pydata.org/pandas-docs/stable/reference/api/pandas.DataFrame.corr.html) method. This will output a table with a numberical value for the correlation coefficient."
   ]
  },
  {
   "cell_type": "code",
   "execution_count": null,
   "metadata": {
    "id": "92e1638d-ef2f-42e8-8525-c696ae1a92de"
   },
   "outputs": [],
   "source": [
    "df[['age', 'sex','bmi', 'children', 'smoker', 'region', 'expenses']].corr(method='pearson')"
   ]
  },
  {
   "cell_type": "markdown",
   "metadata": {
    "id": "d5ac7dbbb8a34029979292fd5dfe1f99"
   },
   "source": [
    "#### Analysis:\n",
    "\n",
    "We can see from the numerical correlation coefficient that there is little relationship amongst the numerical features."
   ]
  },
  {
   "cell_type": "markdown",
   "metadata": {
    "id": "373479bc-7d34-4340-8e25-29d9beae15b7"
   },
   "source": [
    "## Summary: \n",
    "\n",
    "From our visual analysis of the data, we see that the best predictor of insurance claim expenses is whether or not the individual is a smoker."
   ]
  }
 ],
 "metadata": {
  "kernelspec": {
   "display_name": "Python 3.7",
   "language": "python",
   "name": "python3"
  },
  "language_info": {
   "codemirror_mode": {
    "name": "ipython",
    "version": 3
   },
   "file_extension": ".py",
   "mimetype": "text/x-python",
   "name": "python",
   "nbconvert_exporter": "python",
   "pygments_lexer": "ipython3",
   "version": "3.7.10"
  }
 },
 "nbformat": 4,
 "nbformat_minor": 1
}
